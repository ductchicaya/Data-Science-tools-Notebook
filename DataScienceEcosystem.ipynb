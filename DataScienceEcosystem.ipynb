{
  "metadata": {
    "language_info": {
      "codemirror_mode": {
        "name": "python",
        "version": 3
      },
      "file_extension": ".py",
      "mimetype": "text/x-python",
      "name": "python",
      "nbconvert_exporter": "python",
      "pygments_lexer": "ipython3",
      "version": "3.8"
    },
    "kernelspec": {
      "name": "python",
      "display_name": "Python (Pyodide)",
      "language": "python"
    }
  },
  "nbformat_minor": 4,
  "nbformat": 4,
  "cells": [
    {
      "cell_type": "markdown",
      "source": "# Data Science Tools and Ecosystem",
      "metadata": {}
    },
    {
      "cell_type": "markdown",
      "source": "# In this notebook, Data Science Tools and Ecosystem are summarized.",
      "metadata": {}
    },
    {
      "cell_type": "markdown",
      "source": "# Some of the popular languages that Data Scientists use are:\n\n1. **Python**\n2. **R**\n3. **Sql**\n\n",
      "metadata": {
        "tags": []
      }
    },
    {
      "cell_type": "markdown",
      "source": "# Some of the commonly used libraries used by Data Scientists include:\n## ordered list\n1. **NumPy**\n2. **Pandas**\n3. **Matplotlib et Seaborn**",
      "metadata": {}
    },
    {
      "cell_type": "markdown",
      "source": "# Data Science Tools\n\n| Data Science Tools |\n| --------------------------------------- |\n| **1. Jupyter Notebooks**                |\n| **2. RStudio**                         |\n| **3. Jupyter Lite**                    |\n\n\n",
      "metadata": {}
    },
    {
      "cell_type": "markdown",
      "source": "### Below are a few examples of evaluating arithmetic expressions in Python\n1. **Addition :**\n   - \\(8 + 3\\)\n2. **Soustraction :**\n   - \\(20 - 12\\)\n3. **Multiplication :**\n   - \\(6 * 9\\)\n4. **Division :**\n   - \\(45 /  5\\)",
      "metadata": {}
    },
    {
      "cell_type": "code",
      "source": "# This a simple arithmetic expression to mutiply then add integers\n(3*4)+5",
      "metadata": {
        "trusted": true
      },
      "execution_count": 4,
      "outputs": [
        {
          "execution_count": 4,
          "output_type": "execute_result",
          "data": {
            "text/plain": "17"
          },
          "metadata": {}
        }
      ]
    },
    {
      "cell_type": "code",
      "source": "# This will convert 200 minutes to hours by diving by 60\nminutes = 200\nhours = minutes / 60\nprint(f\"{minutes} minutes équivalent à {hours} heures.\")",
      "metadata": {
        "trusted": true
      },
      "execution_count": 7,
      "outputs": [
        {
          "name": "stdout",
          "text": "200 minutes équivalent à 3.3333333333333335 heures.\n",
          "output_type": "stream"
        }
      ]
    },
    {
      "cell_type": "markdown",
      "source": "# Objectives:\n\n- **Lister les langages populaires en Science des Données.**\n- **Identifier des bibliothèques essentielles utilisées dans le domaine.**\n- **Comprendre l'utilisation d'environnements de développement courants en Science des Données.**\n- **Explorer des expressions arithmétiques de base en Python.**\n- **Apprendre à convertir les minutes en heures à l'aide de scripts simples.**",
      "metadata": {}
    },
    {
      "cell_type": "markdown",
      "source": "## Author\nTCHICAYA Duc Baïmann Christ",
      "metadata": {}
    }
  ]
}